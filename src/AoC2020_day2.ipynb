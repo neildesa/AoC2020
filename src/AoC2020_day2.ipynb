{
 "cells": [
  {
   "cell_type": "code",
   "execution_count": 220,
   "metadata": {},
   "outputs": [
    {
     "name": "stdout",
     "output_type": "stream",
     "text": [
      "422\n"
     ]
    }
   ],
   "source": [
    "#Challenge One\n",
    "import re\n",
    "file = open(\"C:/GitRepos/AoC2020/src/data/AoC2020_day2_1.txt\")\n",
    "rawData = file.readlines()\n",
    "# print(rawData)\n",
    "\n",
    "firstCounter = 0\n",
    "for i in rawData:\n",
    "#     print(i[0], i[2], i[4], i[7:])\n",
    "    minValue = re.search(\".*-\", i)[0].replace(\"-\", \"\")\n",
    "    maxValue = re.search(\"-(.*?)[\\s]\", i)[1]\n",
    "    letter = re.search(\".:\", i)[0][0]\n",
    "    string = re.search(\":[\\s](.*)\", i)[1]\n",
    "    occurences = string.count(letter)\n",
    "#     print(minValue, maxValue, letter, string, occurences)\n",
    "    \n",
    "    if (occurences >= int(minValue) and occurences <= int(maxValue)):\n",
    "#         print(string, letter)\n",
    "        firstCounter += 1 \n",
    "#     else:\n",
    "#         print(string, letter)\n",
    "    \n",
    "print(firstCounter)\n"
   ]
  },
  {
   "cell_type": "code",
   "execution_count": 221,
   "metadata": {},
   "outputs": [
    {
     "name": "stdout",
     "output_type": "stream",
     "text": [
      "451\n"
     ]
    }
   ],
   "source": [
    "#Challenge two\n",
    "secondCounter = 0\n",
    "for line in rawData:\n",
    "    positionOne = int(re.search(\".*-\", line)[0].replace(\"-\", \"\")) - 1\n",
    "    positionTwo = int(re.search(\"-(.*?)[\\s]\", line)[1]) - 1\n",
    "    letter = re.search(\".:\", line)[0][0]\n",
    "    string = re.search(\":[\\s](.*)\", line)[1]\n",
    "\n",
    "    if((string[positionOne] == letter) ^ (string[positionTwo] == letter)):\n",
    "#         print(string)\n",
    "        secondCounter+= 1\n",
    "        \n",
    "print(secondCounter)"
   ]
  },
  {
   "cell_type": "code",
   "execution_count": 202,
   "metadata": {},
   "outputs": [
    {
     "name": "stdout",
     "output_type": "stream",
     "text": [
      "False\n"
     ]
    }
   ],
   "source": []
  }
 ],
 "metadata": {
  "kernelspec": {
   "display_name": "Python 3",
   "language": "python",
   "name": "python3"
  },
  "language_info": {
   "codemirror_mode": {
    "name": "ipython",
    "version": 3
   },
   "file_extension": ".py",
   "mimetype": "text/x-python",
   "name": "python",
   "nbconvert_exporter": "python",
   "pygments_lexer": "ipython3",
   "version": "3.8.5"
  }
 },
 "nbformat": 4,
 "nbformat_minor": 4
}
